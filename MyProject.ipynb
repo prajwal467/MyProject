{
 "cells": [
  {
   "cell_type": "markdown",
   "id": "21350594-359c-4b6a-830d-b322564b15a8",
   "metadata": {},
   "source": [
    "                         DETECTING FACE MASK USING PRE TRAINED MOBILENET MODEL\n",
    "\n"
   ]
  },
  {
   "cell_type": "code",
   "execution_count": null,
   "id": "12009ddc-8c35-49d2-a2db-63409733ebfa",
   "metadata": {},
   "outputs": [],
   "source": [
    "INTRODUCTION"
   ]
  },
  {
   "cell_type": "markdown",
   "id": "0ac39101-4193-473d-952c-39e79ad9a6e7",
   "metadata": {},
   "source": [
    "In the present study, I will be talking about face mask detection using a convolutional neural network that will detect face masks on people's faces. The problem I will be addressing throughout this paper originated from the Wuhan province of china in 2019 called the covid SARS-19 virus. The spread of this virus is a health emergency and a pandemic across continents. To stop the spread of the virus governments across the world came up with a recommendation and urged people to wear face masks in an indoor setting or when in close contact with people while traveling or socialising.\n",
    " A deep convolutional neural network-based pre-trained MobileNEt model is used along with  facemask images dataset. For this purpose, we have used MobileNet pre-trained models to obtain higher prediction accuracies for the dataset which contains images of people with masks and people without the mask.\n",
    " The report is structed as follows. The method section talks about the CNN neural network and the pre trained model.The result \n",
    " section presents the result obtained from the training and test data.\n"
   ]
  },
  {
   "cell_type": "code",
   "execution_count": 86,
   "id": "638e1c89-c488-4efa-a4e7-c8b46be2cda8",
   "metadata": {},
   "outputs": [],
   "source": [
    "#installing the necessary libraries and dependencies for the project including tensorflow,keras,sklearn,matplotlib and numpy\n",
    "from tensorflow.keras.preprocessing.image import ImageDataGenerator\n",
    "from tensorflow.keras.applications import MobileNetV2\n",
    "from tensorflow.keras.layers import AveragePooling2D\n",
    "from tensorflow.keras.layers import Dropout\n",
    "from tensorflow.keras.layers import Flatten\n",
    "from tensorflow.keras.layers import Dense\n",
    "from tensorflow.keras.layers import Input\n",
    "from tensorflow.keras.models import Model\n",
    "from tensorflow.keras.optimizers import Adam\n",
    "from tensorflow.keras.applications.mobilenet_v2 import preprocess_input\n",
    "from tensorflow.keras.preprocessing.image import img_to_array\n",
    "from tensorflow.keras.preprocessing.image import load_img\n",
    "from tensorflow.keras.utils import to_categorical\n",
    "from sklearn.preprocessing import LabelBinarizer\n",
    "from sklearn.model_selection import train_test_split\n",
    "from sklearn.metrics import classification_report\n",
    "from imutils import paths\n",
    "import matplotlib.pyplot as plt\n",
    "import numpy as np\n",
    "import os"
   ]
  },
  {
   "cell_type": "code",
   "execution_count": 2,
   "id": "5fcbf39d-caac-4548-b287-084b9c423861",
   "metadata": {},
   "outputs": [],
   "source": [
    "#using the dir we are giving the link to the dataset which is stored in the local machine.\n",
    "dir = r\"C:\\Users\\praj46\\Downloads\\covid19 face mask detection\\New Masks Dataset\"\n",
    "#the categories which will be used in the dataset for detection is mask and non mask.\n",
    "CATEGORIES  = [\"Mask\", \"Non Mask\"]\n"
   ]
  },
  {
   "cell_type": "code",
   "execution_count": 3,
   "id": "7b23dc2f-ec0b-45e6-8635-f93cb07fe2c9",
   "metadata": {},
   "outputs": [],
   "source": [
    "#we will be initialising the learning rate\n",
    "INIT_LR = 1e-4\n",
    "#Setting the number of epochs \n",
    "EPOCHS = 20\n",
    "#setting the batch size\n",
    "BS = 32\n"
   ]
  },
  {
   "cell_type": "code",
   "execution_count": 45,
   "id": "50366e11-c9ef-410c-b204-3860b7b0f8e6",
   "metadata": {},
   "outputs": [],
   "source": [
    "data = []\n",
    "labels = []\n"
   ]
  },
  {
   "cell_type": "code",
   "execution_count": 46,
   "id": "e9326ae7-f561-4711-b684-0ea9b6569190",
   "metadata": {},
   "outputs": [],
   "source": [
    "for category in CATEGORIES:\n",
    "    path = os.path.join(dir, category)\n",
    "    for img in os.listdir(path):\n",
    "        img_path = os.path.join(path, img)\n",
    "        image = load_img(img_path, target_size=(224, 224))\n",
    "        image = img_to_array(image)\n",
    "        image = preprocess_input(image)\n",
    "\n",
    "        data.append(image)\n",
    "        labels.append(category)\n",
    "       "
   ]
  },
  {
   "cell_type": "markdown",
   "id": "a469620f-ec33-45f4-baf1-cbd9fe6b7800",
   "metadata": {},
   "source": [
    "METHODS:"
   ]
  },
  {
   "cell_type": "markdown",
   "id": "62bd4109-88fc-4928-8966-623aa906e81b",
   "metadata": {},
   "source": [
    "In the present study, images were obtained from Kaggle. The Data was collected and shared by Prithviraj Mitra. The dataset consists of 1006 images of people wearing a face mask to prevent covid19. The dataset is divided into training, test, and validation sets.\n",
    "The training set consists of 300 people wearing the face mask and the other 300 without the mask. The test dataset contains 50 people wearing the face and 50 without the face mask. Finally, the validation set consists of 306 images of people with and without face masks.\n",
    "\n",
    "\"Deep learning models have been used successfully in many areas such as classification, segmentation and lesion\n",
    "detection of medical data. Analysis of image and signal data was obtained with medical imaging techniques such as magnetic resonance imaging (MRI), computed tomography (CT) and X-ray with the help of deep learning models. As a result of these analyzes, detection and diagnosis of diseases such as diabetes mellitus, brain tumor, skin cancer and breast cancer\n",
    "are provided in studies with convenience\" (Narin et al 2021,p3)\n",
    "Convolutional neural network is used in this study, as CNN model works better on image data.CNN has two layers.\n",
    " The first layer is to extract the features from the image, which will be done by the convolutional layer followed by a pooling layer. The second task for those features is to classify the images into Mask and non Mask categories. This will be achieved by back-end classifier layers that will output the prediction.\n",
    "\n",
    "Pre Trained Model:\n",
    "\n",
    " \"MobileNet is a streamlined architecture that uses depthwise separable convolutions to construct lightweight deep convolutional neural networks and provides an efficient model for mobile and embedded vision applications. Depthwise separable convolution filters are composed of depthwise convolution filters and point convolution filters. depthwise convolution filter performs a single convolution on each input channel, and the point convolution filter combines the output of depthwise convolution linearly with 1 * 1 convolutions\".(wang et al,2020,p2)"
   ]
  },
  {
   "cell_type": "markdown",
   "id": "60cd47c5-5f75-4201-9ea3-9d7679db5169",
   "metadata": {},
   "source": [
    "Experimental Setup"
   ]
  },
  {
   "cell_type": "code",
   "execution_count": null,
   "id": "d0c50158-5476-4a20-b964-115b43952c44",
   "metadata": {},
   "outputs": [],
   "source": [
    "In this study the experiment was conducted on Jupyter Notebook and pythong programming language is used.The study did not use any \n",
    "GPU for running of the model.MobileNet Pre trained CNN model is used.The learning rate,number of epochs and batch size is set\n",
    "to 1e-4,20 and 32 respectively.\n"
   ]
  },
  {
   "cell_type": "code",
   "execution_count": 47,
   "id": "ee82f453-3cc0-4bbd-8b3c-1c5f07cd7472",
   "metadata": {},
   "outputs": [],
   "source": [
    "#we will be performing one hot encoding to convert the categorical variable into numerical one.\n",
    "lb = LabelBinarizer()\n",
    "labels = lb.fit_transform(labels)\n",
    "labels = to_categorical(labels)\n",
    "\n"
   ]
  },
  {
   "cell_type": "code",
   "execution_count": 48,
   "id": "aabaa129-556e-41fa-a15d-416d0e01354d",
   "metadata": {},
   "outputs": [],
   "source": [
    "# the data will be converted to arrays using the below code.\n",
    "data = np.array(data, dtype=\"float32\")\n",
    "labels = np.array(labels)\n"
   ]
  },
  {
   "cell_type": "code",
   "execution_count": 49,
   "id": "119bb47e-5229-4e34-ae4c-0d800bd8a21a",
   "metadata": {},
   "outputs": [],
   "source": [
    "#the dataset will be split further into train and test data\n",
    "(trainX, testX, trainY, testY) = train_test_split(data, labels,\n",
    "    test_size=0.20, stratify=labels, random_state=42)\n",
    "\n"
   ]
  },
  {
   "cell_type": "code",
   "execution_count": 50,
   "id": "e5365f4c-4af8-4a42-b1fb-dc3e0de402c9",
   "metadata": {},
   "outputs": [],
   "source": [
    "#Data augementation will be done by using the below code to increase the size of the data\n",
    "augmentation = ImageDataGenerator(\n",
    "    rotation_range=20,\n",
    "    zoom_range=0.15,\n",
    "    width_shift_range=0.2,\n",
    "    height_shift_range=0.2,\n",
    "    shear_range=0.15,\n",
    "    horizontal_flip=True,\n",
    "    fill_mode=\"nearest\")"
   ]
  },
  {
   "cell_type": "code",
   "execution_count": 63,
   "id": "5d6df3cb-d3e6-4b37-ada5-0b5a0d4bf54b",
   "metadata": {},
   "outputs": [
    {
     "name": "stdout",
     "output_type": "stream",
     "text": [
      "WARNING:tensorflow:`input_shape` is undefined or non-square, or `rows` is not in [96, 128, 160, 192, 224]. Weights for input shape (224, 224) will be loaded as the default.\n"
     ]
    }
   ],
   "source": [
    "# Mobelnet pre trained model is loaded as the top layer\n",
    "maskModel = MobileNetV2(weights=\"imagenet\", include_top=False,\n",
    "    input_tensor=Input(shape=(224, 224, 3)))\n"
   ]
  },
  {
   "cell_type": "code",
   "execution_count": 64,
   "id": "e9dd6abd-9069-4347-a55d-7de6eec66bec",
   "metadata": {},
   "outputs": [],
   "source": [
    "# construct the head of the model that will be placed on top of the\n",
    "# the base model\n",
    "Model = maskModel.output\n",
    "Model = AveragePooling2D(pool_size=(7, 7))(Model)\n",
    "Model = Flatten(name=\"flatten\")(Model)\n",
    "Model = Dense(128, activation=\"relu\")(Model)\n",
    "Model = Dropout(0.5)(headModel)\n",
    "Model = Dense(2, activation=\"softmax\")(Model)"
   ]
  },
  {
   "cell_type": "code",
   "execution_count": 87,
   "id": "34c858e6-5afe-497e-8d75-d198c841c1d8",
   "metadata": {},
   "outputs": [],
   "source": [
    "\n",
    "# place the head FC model on top of the base model (this will become\n",
    "# the actual model we will train)\n",
    "model = Model(inputs=maskModel.input, outputs=Model)\n",
    "\n"
   ]
  },
  {
   "cell_type": "code",
   "execution_count": 88,
   "id": "d1bd0923-c7a4-4cd0-a870-77e5d39622b8",
   "metadata": {},
   "outputs": [],
   "source": [
    "# for loop is used on the mask model so it doesn't get trained in the first settings.\n",
    "for layer in maskModel.layers:\n",
    "\tlayer.trainable = False"
   ]
  },
  {
   "cell_type": "code",
   "execution_count": 89,
   "id": "0ab9c55e-c490-402e-9d1a-30ebc6025225",
   "metadata": {},
   "outputs": [
    {
     "name": "stdout",
     "output_type": "stream",
     "text": [
      "[INFO] compiling model...\n"
     ]
    }
   ],
   "source": [
    "# compiling our model\n",
    "print(\"[INFO] compiling model...\")\n",
    "opt = Adam(lr=INIT_LR, decay=INIT_LR / EPOCHS)\n",
    "model.compile(loss=\"binary_crossentropy\", optimizer=opt,\n",
    "    metrics=[\"accuracy\"])"
   ]
  },
  {
   "cell_type": "code",
   "execution_count": 92,
   "id": "35aedfae-f1db-47b5-a128-6bc6c2223ed5",
   "metadata": {},
   "outputs": [
    {
     "name": "stdout",
     "output_type": "stream",
     "text": [
      "[INFO] training head...\n",
      "Epoch 1/20\n",
      "15/15 [==============================] - 37s 2s/step - loss: 0.7485 - accuracy: 0.5938 - val_loss: 0.5454 - val_accuracy: 0.8583\n",
      "Epoch 2/20\n",
      "15/15 [==============================] - 32s 2s/step - loss: 0.5414 - accuracy: 0.7958 - val_loss: 0.3917 - val_accuracy: 0.9583\n",
      "Epoch 3/20\n",
      "15/15 [==============================] - 32s 2s/step - loss: 0.4057 - accuracy: 0.9021 - val_loss: 0.2925 - val_accuracy: 0.9833\n",
      "Epoch 4/20\n",
      "15/15 [==============================] - 32s 2s/step - loss: 0.3104 - accuracy: 0.9187 - val_loss: 0.2255 - val_accuracy: 0.9833\n",
      "Epoch 5/20\n",
      "15/15 [==============================] - 34s 2s/step - loss: 0.2461 - accuracy: 0.9500 - val_loss: 0.1817 - val_accuracy: 0.9833\n",
      "Epoch 6/20\n",
      "15/15 [==============================] - 65s 4s/step - loss: 0.2055 - accuracy: 0.9604 - val_loss: 0.1482 - val_accuracy: 0.9833\n",
      "Epoch 7/20\n",
      "15/15 [==============================] - 38s 3s/step - loss: 0.1501 - accuracy: 0.9792 - val_loss: 0.1265 - val_accuracy: 0.9833\n",
      "Epoch 8/20\n",
      "15/15 [==============================] - 42s 3s/step - loss: 0.1647 - accuracy: 0.9646 - val_loss: 0.1107 - val_accuracy: 0.9833\n",
      "Epoch 9/20\n",
      "15/15 [==============================] - 31s 2s/step - loss: 0.1354 - accuracy: 0.9729 - val_loss: 0.0961 - val_accuracy: 0.9833\n",
      "Epoch 10/20\n",
      "15/15 [==============================] - 33s 2s/step - loss: 0.1188 - accuracy: 0.9771 - val_loss: 0.0878 - val_accuracy: 0.9833\n",
      "Epoch 11/20\n",
      "15/15 [==============================] - 40s 3s/step - loss: 0.1107 - accuracy: 0.9812 - val_loss: 0.0784 - val_accuracy: 0.9833\n",
      "Epoch 12/20\n",
      "15/15 [==============================] - 35s 2s/step - loss: 0.1073 - accuracy: 0.9750 - val_loss: 0.0696 - val_accuracy: 0.9917\n",
      "Epoch 13/20\n",
      "15/15 [==============================] - 34s 2s/step - loss: 0.1004 - accuracy: 0.9750 - val_loss: 0.0650 - val_accuracy: 0.9833\n",
      "Epoch 14/20\n",
      "15/15 [==============================] - 34s 2s/step - loss: 0.0865 - accuracy: 0.9875 - val_loss: 0.0631 - val_accuracy: 0.9833\n",
      "Epoch 15/20\n",
      "15/15 [==============================] - 36s 2s/step - loss: 0.0731 - accuracy: 0.9896 - val_loss: 0.0571 - val_accuracy: 0.9833\n",
      "Epoch 16/20\n",
      "15/15 [==============================] - 35s 2s/step - loss: 0.0750 - accuracy: 0.9875 - val_loss: 0.0521 - val_accuracy: 0.9833\n",
      "Epoch 17/20\n",
      "15/15 [==============================] - 49s 3s/step - loss: 0.0662 - accuracy: 0.9833 - val_loss: 0.0502 - val_accuracy: 0.9833\n",
      "Epoch 18/20\n",
      "15/15 [==============================] - 42s 3s/step - loss: 0.0576 - accuracy: 0.9937 - val_loss: 0.0478 - val_accuracy: 0.9833\n",
      "Epoch 19/20\n",
      "15/15 [==============================] - 37s 2s/step - loss: 0.0599 - accuracy: 0.9833 - val_loss: 0.0433 - val_accuracy: 0.9917\n",
      "Epoch 20/20\n",
      "15/15 [==============================] - 40s 3s/step - loss: 0.0627 - accuracy: 0.9812 - val_loss: 0.0429 - val_accuracy: 0.9833\n"
     ]
    }
   ],
   "source": [
    "# training our model\n",
    "print(\"training \")\n",
    "H = model.fit(\n",
    "    augmentation.flow(trainX, trainY, batch_size=BS),\n",
    "    steps_per_epoch=len(trainX) // BS,\n",
    "    validation_data=(testX, testY),\n",
    "    validation_steps=len(testX) // BS,\n",
    "    epochs=EPOCHS)\n"
   ]
  },
  {
   "cell_type": "code",
   "execution_count": 93,
   "id": "4279869b-271f-43c2-9b0e-9975054aefb0",
   "metadata": {},
   "outputs": [
    {
     "name": "stdout",
     "output_type": "stream",
     "text": [
      "   \n"
     ]
    }
   ],
   "source": [
    "#test data is used to make predictions.\n",
    "print(\"   \")\n",
    "preds = model.predict(testX, batch_size=BS)"
   ]
  },
  {
   "cell_type": "code",
   "execution_count": 94,
   "id": "2b460fd0-5c1c-4c9e-96aa-1227be4bb38e",
   "metadata": {},
   "outputs": [],
   "source": [
    "#testing set contains a lot of images, we need to find the index of the label with corresponding largest predictor probability.\n",
    "preds = np.argmax(predIdxs, axis=1)\n"
   ]
  },
  {
   "cell_type": "code",
   "execution_count": 100,
   "id": "e436eba6-44f4-4dbc-b222-501a26df40b9",
   "metadata": {},
   "outputs": [
    {
     "name": "stdout",
     "output_type": "stream",
     "text": [
      "              precision    recall  f1-score   support\n",
      "\n",
      "        Mask       0.97      1.00      0.98        60\n",
      "    Non Mask       1.00      0.97      0.98        60\n",
      "\n",
      "    accuracy                           0.98       120\n",
      "   macro avg       0.98      0.98      0.98       120\n",
      "weighted avg       0.98      0.98      0.98       120\n",
      "\n",
      "details of the results of the model Table 1\n"
     ]
    }
   ],
   "source": [
    "#we will be generating a report here\n",
    "print(classification_report(testY.argmax(axis=1), preds,\n",
    "   target_names=lb.classes_))\n",
    "\n",
    "print('details of the results of the model Table 1')\n"
   ]
  },
  {
   "cell_type": "code",
   "execution_count": 96,
   "id": "39ab6d52-f3d9-4e9e-af79-fb9d57e0ef01",
   "metadata": {},
   "outputs": [
    {
     "name": "stdout",
     "output_type": "stream",
     "text": [
      "[INFO] saving mask detector model...\n"
     ]
    },
    {
     "name": "stderr",
     "output_type": "stream",
     "text": [
      "C:\\Users\\praj46\\Anaconda3\\lib\\site-packages\\tensorflow\\python\\keras\\utils\\generic_utils.py:494: CustomMaskWarning: Custom mask layers require a config and must override get_config. When loading, the custom mask layer must be passed to the custom_objects argument.\n",
      "  warnings.warn('Custom mask layers require a config and must override '\n"
     ]
    }
   ],
   "source": [
    "#saving the model\n",
    "print(\"[INFO] saving mask detector model...\")\n",
    "model.save(\"mask_detector.model\", save_format=\"h5\")"
   ]
  },
  {
   "cell_type": "code",
   "execution_count": 98,
   "id": "19b0c757-c712-421d-9179-4b921604185f",
   "metadata": {},
   "outputs": [
    {
     "data": {
      "image/png": "[encoded data removed]",
      "text/plain": [
       "<Figure size 432x288 with 1 Axes>"
      ]
     },
     "metadata": {},
     "output_type": "display_data"
    }
   ],
   "source": [
    "# plot the training loss and accuracy\n",
    "N = EPOCHS\n",
    "plt.style.use(\"ggplot\")\n",
    "plt.figure()\n",
    "plt.plot(np.arange(0, N), H.history[\"loss\"], label=\"train_loss\")\n",
    "plt.plot(np.arange(0, N), H.history[\"val_loss\"], label=\"val_loss\")\n",
    "plt.plot(np.arange(0, N), H.history[\"accuracy\"], label=\"train_acc\")\n",
    "plt.plot(np.arange(0, N), H.history[\"val_accuracy\"], label=\"val_acc\")\n",
    "plt.title(\"Training Loss and Accuracy\")\n",
    "plt.xlabel(\"Epoch #\")\n",
    "plt.ylabel(\"Loss/Accuracy\")\n",
    "plt.legend(loc=\"lower left\")\n",
    "plt.savefig(\"plot.png\")"
   ]
  },
  {
   "cell_type": "markdown",
   "id": "7a1acf99-d488-4568-b6ac-40c87431472f",
   "metadata": {},
   "source": [
    "RESULTS"
   ]
  },
  {
   "cell_type": "markdown",
   "id": "c1354b36-bcf9-4b4d-89a9-2c13cf19ae95",
   "metadata": {},
   "source": [
    "The study performed in this paper used binary classification with two classes  Mask and Non-Mask.In this study, MobileNet, a pre-trained model is used. The dataset is split into training and test data. The training data consists of 80% of the original data and test data contains 20% of the original dataset.\n",
    "The model is trained on the given input. The training time for the MobileNet model is 60seconds.\n",
    "Figure 1 depicts the accuracy and training loss. The results indicate that MobileNet is performing better and the training accuracy of the model is approximately 1. The oscillation of the model becomes more stable after 15 epochs. The graph indicates both the train and test data are similar, which shows there is no overfitting.\n",
    "The detailed performance of the model is given in table 1.It is clear from the table 0.98 accuracy was reached in determining whether people wear face mask or not."
   ]
  },
  {
   "cell_type": "markdown",
   "id": "4b8f4a94-55bb-4b90-a6dc-3f9ab7668be6",
   "metadata": {},
   "source": [
    "Conclusion"
   ]
  },
  {
   "cell_type": "code",
   "execution_count": null,
   "id": "32e61ba6-a84b-400f-ac63-3dc7dc2b0e6d",
   "metadata": {},
   "outputs": [],
   "source": [
    "In this study,deep learning model was proposed to detect face mask, the data was obtained from Kaggle. The resulting performance from the figure and table shows that\n",
    "MobileNet pre-trained model yielded the highest accuracy of 0.98. \n",
    "In the recent pandemic the findings from this study will help the governments acrros the world to detect whether people are\n",
    "wearing face masks or not, that helps in preventing the spread of the virus.\n",
    "In the future studies different CNN models can be used to test by increading the size of the sample."
   ]
  },
  {
   "cell_type": "markdown",
   "id": "5db1c69c-ef62-4417-abcf-56576ca7cd24",
   "metadata": {},
   "source": [
    "References:"
   ]
  },
  {
   "cell_type": "markdown",
   "id": "0b649465-f387-428c-a054-1fc6bc4ba3f9",
   "metadata": {},
   "source": [
    "Wang, W., Li, Y., Zou, T., Wang, X., You, J. and Luo, Y. (2020). A Novel Image Classification Approach via Dense-MobileNet Models. Mobile Information Systems, [online] 2020, pp.1–8. Available at: https://pdfs.semanticscholar.org/d1c6/beaed0297fd792499e97a33b38db5d497edb.pdf?_ga=2.36044258.333625244.1625248001-1448475053.1625248001 [Accessed 2 Jul. 2021].\n",
    "\n",
    "‌"
   ]
  },
  {
   "cell_type": "markdown",
   "id": "bebbab04-2776-41cd-8983-ce56485aa183",
   "metadata": {},
   "source": [
    "Narin, A., Kaya, C. and Pamuk, Z. (2021). Automatic detection of coronavirus disease (COVID-19) using X-ray images and deep convolutional neural networks. Pattern Analysis and Applications.\n",
    "\n",
    "‌"
   ]
  },
  {
   "cell_type": "markdown",
   "id": "723d6a81-0688-4752-9e55-09a8b7bf36f5",
   "metadata": {},
   "source": [
    "https://moodle.essex.ac.uk/course/view.php?id=15076"
   ]
  }
 ],
 "metadata": {
  "kernelspec": {
   "display_name": "Python 3",
   "language": "python",
   "name": "python3"
  },
  "language_info": {
   "codemirror_mode": {
    "name": "ipython",
    "version": 3
   },
   "file_extension": ".py",
   "mimetype": "text/x-python",
   "name": "python",
   "nbconvert_exporter": "python",
   "pygments_lexer": "ipython3",
   "version": "3.8.8"
  }
 },
 "nbformat": 4,
 "nbformat_minor": 5
}
